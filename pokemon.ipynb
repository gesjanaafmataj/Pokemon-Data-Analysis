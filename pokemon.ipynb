{
  "metadata": {
    "kernelspec": {
      "name": "python",
      "display_name": "Python (Pyodide)",
      "language": "python"
    },
    "language_info": {
      "codemirror_mode": {
        "name": "python",
        "version": 3
      },
      "file_extension": ".py",
      "mimetype": "text/x-python",
      "name": "python",
      "nbconvert_exporter": "python",
      "pygments_lexer": "ipython3",
      "version": "3.8"
    }
  },
  "nbformat_minor": 4,
  "nbformat": 4,
  "cells": [
    {
      "cell_type": "code",
      "source": "import pandas as pd\n\nprint('Welcome to my Pokemon and Pandas assigment. I am Gesjana Afmataj :)')\n\n#TASK 1\n\npokemon_details = pd.read_csv('pokemon_details.csv')\npokemon_types = pd.read_csv('pokemon_types.csv')\ntypes = pd.read_csv('types.csv')\n\n# merge pok details and pok types datasets on id\nmerged_data = pd.merge(pokemon_details, pokemon_types, left_on='id', right_on='pokemon_id')\n\n# filter the merged data for 'fire'\nfire_pokemon_count = merged_data[merged_data['type_id'] == 10]['id'].nunique()  # Assuming Fire type_id is 10\n\nprint(f'TASK 1')\nprint(f'The number of Pokémon with the Fire type is: {fire_pokemon_count}')",
      "metadata": {
        "trusted": true
      },
      "outputs": [
        {
          "name": "stderr",
          "text": "<ipython-input-1-f495a5dcdd99>:1: DeprecationWarning: \nPyarrow will become a required dependency of pandas in the next major release of pandas (pandas 3.0),\n(to allow more performant data types, such as the Arrow string type, and better interoperability with other libraries)\nbut was not found to be installed on your system.\nIf this would cause problems for you,\nplease provide us feedback at https://github.com/pandas-dev/pandas/issues/54466\n        \n  import pandas as pd\n",
          "output_type": "stream"
        },
        {
          "name": "stdout",
          "text": "Welcome to my Pokemon and Pandas assigment. I am Gesjana Afmataj :)\nTASK 1\nThe number of Pokémon with the Fire type is: 84\n",
          "output_type": "stream"
        }
      ],
      "execution_count": 1
    },
    {
      "cell_type": "code",
      "source": "\n#TASK 2\n\nmerged_data = pd.merge(pokemon_details, pokemon_types, left_on='id', right_on='pokemon_id')\n\n# Rock with id=6\nrock_pokemon = merged_data[merged_data['type_id'] == 6]\nheaviest_rock_pokemon = rock_pokemon.loc[rock_pokemon['weight'].idxmax()]\n\nprint(f'TASK 2')\nprint('The heaviest Pokémon with a Rock type is:')\nprint(heaviest_rock_pokemon[['identifier', 'weight']])\n\n",
      "metadata": {
        "trusted": true
      },
      "outputs": [
        {
          "name": "stdout",
          "text": "TASK 2\nThe heaviest Pokémon with a Rock type is:\nidentifier    stakataka\nweight             8200\nName: 1207, dtype: object\n",
          "output_type": "stream"
        }
      ],
      "execution_count": 2
    },
    {
      "cell_type": "code",
      "source": "#TASK 3\n\nmerged_data = pd.merge(pokemon_types, types, left_on='type_id', right_on='id')\nmerged_data = pd.merge(merged_data, pokemon_details, left_on='pokemon_id', right_on='id')\n\n# group by type\ntype_combination_counts = merged_data.groupby(['type_id', 'slot']).size().reset_index(name='count')\n\nmost_common_combination = type_combination_counts.loc[type_combination_counts['count'].idxmax()]\nleast_common_combination = type_combination_counts.loc[type_combination_counts['count'].idxmin()]\n\n# identifier  based on type_id\nmost_common_combination_types = types[types['id'].isin([most_common_combination['type_id']])]['identifier'].tolist()\nleast_common_combination_types = types[types['id'].isin([least_common_combination['type_id']])]['identifier'].tolist()\n\nprint('TASK 3')\nprint(\"Most common type combination:\", most_common_combination_types, \"in slot\", most_common_combination['slot'])\nprint(\"Least common type combination:\", least_common_combination_types, \"in slot\", least_common_combination['slot'])\n\n",
      "metadata": {
        "trusted": true
      },
      "outputs": [
        {
          "name": "stdout",
          "text": "TASK 3\nMost common type combination: ['water'] in slot 1\nLeast common type combination: ['flying'] in slot 1\n",
          "output_type": "stream"
        }
      ],
      "execution_count": 3
    },
    {
      "cell_type": "code",
      "source": "\n#TASK 4\n\nmerged_data = pd.merge(pokemon_types, types, left_on='type_id', right_on='id')\nmerged_data = pd.merge(merged_data, pokemon_details, left_on='pokemon_id', right_on='id')\n\n# list with unique sorted type\nunique_combinations = []\n\n# extract type combinations\nfor _, row in merged_data.iterrows(): #iterate each row\n    types_present = [row['type_id']]\n\n    if 'type_id_2' in row.index and not pd.isna(row['type_id_2']):\n        types_present.append(row['type_id_2'])\n\n    type_combination = tuple(sorted(types_present))\n\n    if type_combination not in unique_combinations:\n        unique_combinations.append(type_combination)\n\n# count it\ncombination_counts = pd.Series(unique_combinations).value_counts().reset_index()\ncombination_counts.columns = ['type_combination', 'count']\n\nmost_common_combination = combination_counts.loc[combination_counts['count'].idxmax()]\nleast_common_combination = combination_counts.loc[combination_counts['count'].idxmin()]\n\n# identifier based on type combination\nmost_common_combination_types = types[types['id'].isin(list(most_common_combination['type_combination']))][\n    'identifier'].tolist()\nleast_common_combination_types = types[types['id'].isin(list(least_common_combination['type_combination']))][\n    'identifier'].tolist()\nprint('TASK 4')\nprint(\"Most common type combination:\", most_common_combination_types)\nprint(\"Least common type combination:\", least_common_combination_types)",
      "metadata": {
        "trusted": true
      },
      "outputs": [
        {
          "name": "stdout",
          "text": "TASK 4\nMost common type combination: ['grass']\nLeast common type combination: ['grass']\n",
          "output_type": "stream"
        }
      ],
      "execution_count": 4
    }
  ]
}